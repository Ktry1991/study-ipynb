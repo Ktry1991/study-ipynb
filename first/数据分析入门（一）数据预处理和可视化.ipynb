{
 "cells": [
  {
   "cell_type": "markdown",
   "metadata": {},
   "source": [
    "## 1.前言\n",
    "首先申明这是我的个人的实验楼学习笔记，教程中代码均来之实验楼，自己只是做整理分享给大家，希望对大家有所帮助，数据清洗是数据分析中非常重要的一部分，也最繁琐，做好这一步需要大量的经验和耐心。接下来我将和大家一起，一步步完成这项工作。"
   ]
  },
  {
   "cell_type": "markdown",
   "metadata": {},
   "source": [
    "## 2.数据清洗\n",
    "### 2.1检查数据\n",
    "数据清洗的第一步是检查数据，我们一般会检查数据的类别分布是否平衡、特征值的格式和分布、完整性（是否存在缺失数据）、合法性、唯一性、一致性等。\n",
    "#### 2.1.1.准备数据 导入数据集并查看数据"
   ]
  },
  {
   "cell_type": "code",
   "execution_count": 87,
   "metadata": {
    "collapsed": false
   },
   "outputs": [
    {
     "name": "stdout",
     "output_type": "stream",
     "text": [
      "数据集规模： (891, 12)\n",
      "   PassengerId  Survived  Pclass  \\\n",
      "0            1         0       3   \n",
      "1            2         1       1   \n",
      "2            3         1       3   \n",
      "3            4         1       1   \n",
      "4            5         0       3   \n",
      "\n",
      "                                                Name     Sex   Age  SibSp  \\\n",
      "0                            Braund, Mr. Owen Harris    male  22.0      1   \n",
      "1  Cumings, Mrs. John Bradley (Florence Briggs Th...  female  38.0      1   \n",
      "2                             Heikkinen, Miss. Laina  female  26.0      0   \n",
      "3       Futrelle, Mrs. Jacques Heath (Lily May Peel)  female  35.0      1   \n",
      "4                           Allen, Mr. William Henry    male  35.0      0   \n",
      "\n",
      "   Parch            Ticket     Fare Cabin Embarked  \n",
      "0      0         A/5 21171   7.2500   NaN        S  \n",
      "1      0          PC 17599  71.2833   C85        C  \n",
      "2      0  STON/O2. 3101282   7.9250   NaN        S  \n",
      "3      0            113803  53.1000  C123        S  \n",
      "4      0            373450   8.0500   NaN        S  \n"
     ]
    }
   ],
   "source": [
    "import pandas as pd\n",
    "import pandas as pd\n",
    "\n",
    "target_url = \"http://labfile.oss.aliyuncs.com/courses/1001/train.csv\"\n",
    "\n",
    "data = pd.read_csv(target_url)  \n",
    "print(\"数据集规模：\",data.shape)\n",
    "print(data.head(5))"
   ]
  },
  {
   "cell_type": "code",
   "execution_count": 62,
   "metadata": {
    "collapsed": false
   },
   "outputs": [
    {
     "data": {
      "text/plain": [
       "Index(['PassengerId', 'Survived', 'Pclass', 'Name', 'Sex', 'Age', 'SibSp',\n",
       "       'Parch', 'Ticket', 'Fare', 'Cabin', 'Embarked'],\n",
       "      dtype='object')"
      ]
     },
     "execution_count": 62,
     "metadata": {},
     "output_type": "execute_result"
    }
   ],
   "source": [
    "data.columns"
   ]
  },
  {
   "cell_type": "markdown",
   "metadata": {
    "collapsed": true
   },
   "source": [
    "#### 2.1.2特征介绍\n",
    "\n",
    "我们导入的数据集 data，每行是一个训练样例（即游客），每列是该样例的特征。 其中 Suivived 代表游客是否存活（0 或 1），这是一个二分类问题（死亡 或 生存）。下面是各特征的详细说明：\n",
    "\n",
    "- PassengerId: 编号\n",
    "- Survived: 0 = 死亡，1 = 生存\n",
    "- Pclass: 船票级别 1 = 高级， 2 = 中等， 3 = 低等\n",
    "- name: 名称\n",
    "- Sex: male = 男性，female = 女性\n",
    "- Age: 年龄\n",
    "- SibSp: 在 Titanic 上的兄弟姐妹以及配偶的人数\n",
    "- Parch: 在 Titanic 上的父母以及子女的人数\n",
    "- Ticket: 船票编号\n",
    "- Fare: 工资\n",
    "- Cabin: 所在的船舱\n",
    "- Embarked: 登船的港口 C = Cherbourg, Q = Queenstown, S = Southampton"
   ]
  },
  {
   "cell_type": "markdown",
   "metadata": {},
   "source": [
    "#### 2.1.3.检查数据\n",
    "首先第一步检查数据完整性"
   ]
  },
  {
   "cell_type": "code",
   "execution_count": 63,
   "metadata": {
    "collapsed": false
   },
   "outputs": [
    {
     "name": "stdout",
     "output_type": "stream",
     "text": [
      "891\n",
      "PassengerId      0\n",
      "Survived         0\n",
      "Pclass           0\n",
      "Name             0\n",
      "Sex              0\n",
      "Age            177\n",
      "SibSp            0\n",
      "Parch            0\n",
      "Ticket           0\n",
      "Fare             0\n",
      "Cabin          687\n",
      "Embarked         2\n",
      "dtype: int64\n"
     ]
    }
   ],
   "source": [
    "print(len(data))\n",
    "print(data.isnull().sum())"
   ]
  },
  {
   "cell_type": "markdown",
   "metadata": {},
   "source": [
    "总共有 891 个游客的数据，177 个 Age 缺失，687 个 Cabin 缺失，2 个 Embarked 缺失。在后面我们需要用不同的方法补充这些数据。\n",
    "\n",
    "然后，我们查看特征类别分布是否平衡。类别平衡指分类样例不同类别的训练样例数目差别不大。当差别很大时，为类别不平衡。当类别不平衡的时候，例如正反比为 9:1，学习器将所有样本判别为正例的正确率都能达到 0.9。这时候，我们就需要使用 “再缩放”、“欠采样”、“过采样”、“阈值移动” 等方法。"
   ]
  },
  {
   "cell_type": "code",
   "execution_count": 64,
   "metadata": {
    "collapsed": false
   },
   "outputs": [
    {
     "data": {
      "text/plain": [
       "<matplotlib.axes._subplots.AxesSubplot at 0x7face8f1dc18>"
      ]
     },
     "execution_count": 64,
     "metadata": {},
     "output_type": "execute_result"
    },
    {
     "data": {
      "image/png": "[encoded data removed]",
      "text/plain": [
       "<matplotlib.figure.Figure at 0x7face8f1cb70>"
      ]
     },
     "metadata": {},
     "output_type": "display_data"
    }
   ],
   "source": [
    "import seaborn as sns\n",
    "sns.countplot(x=\"Survived\",data=data)"
   ]
  },
  {
   "cell_type": "markdown",
   "metadata": {},
   "source": [
    "图的纵坐标表示在不同类别下的人数。相差不是特别大，我们认为属于类别平衡问题。\n",
    "\n",
    "接下来，我们查看特征值分布和格式。在这里，我们观察每个特征特征值是什么格式，怎么分布，维度如何。"
   ]
  },
  {
   "cell_type": "code",
   "execution_count": 65,
   "metadata": {
    "collapsed": false
   },
   "outputs": [
    {
     "data": {
      "text/html": [
       "<div>\n",
       "<style>\n",
       "    .dataframe thead tr:only-child th {\n",
       "        text-align: right;\n",
       "    }\n",
       "\n",
       "    .dataframe thead th {\n",
       "        text-align: left;\n",
       "    }\n",
       "\n",
       "    .dataframe tbody tr th {\n",
       "        vertical-align: top;\n",
       "    }\n",
       "</style>\n",
       "<table border=\"1\" class=\"dataframe\">\n",
       "  <thead>\n",
       "    <tr style=\"text-align: right;\">\n",
       "      <th></th>\n",
       "      <th>PassengerId</th>\n",
       "      <th>Survived</th>\n",
       "      <th>Pclass</th>\n",
       "      <th>Name</th>\n",
       "      <th>Sex</th>\n",
       "      <th>Age</th>\n",
       "      <th>SibSp</th>\n",
       "      <th>Parch</th>\n",
       "      <th>Ticket</th>\n",
       "      <th>Fare</th>\n",
       "      <th>Cabin</th>\n",
       "      <th>Embarked</th>\n",
       "    </tr>\n",
       "  </thead>\n",
       "  <tbody>\n",
       "    <tr>\n",
       "      <th>0</th>\n",
       "      <td>1</td>\n",
       "      <td>0</td>\n",
       "      <td>3</td>\n",
       "      <td>Braund, Mr. Owen Harris</td>\n",
       "      <td>male</td>\n",
       "      <td>22.0</td>\n",
       "      <td>1</td>\n",
       "      <td>0</td>\n",
       "      <td>A/5 21171</td>\n",
       "      <td>7.2500</td>\n",
       "      <td>NaN</td>\n",
       "      <td>S</td>\n",
       "    </tr>\n",
       "    <tr>\n",
       "      <th>1</th>\n",
       "      <td>2</td>\n",
       "      <td>1</td>\n",
       "      <td>1</td>\n",
       "      <td>Cumings, Mrs. John Bradley (Florence Briggs Th...</td>\n",
       "      <td>female</td>\n",
       "      <td>38.0</td>\n",
       "      <td>1</td>\n",
       "      <td>0</td>\n",
       "      <td>PC 17599</td>\n",
       "      <td>71.2833</td>\n",
       "      <td>C85</td>\n",
       "      <td>C</td>\n",
       "    </tr>\n",
       "    <tr>\n",
       "      <th>2</th>\n",
       "      <td>3</td>\n",
       "      <td>1</td>\n",
       "      <td>3</td>\n",
       "      <td>Heikkinen, Miss. Laina</td>\n",
       "      <td>female</td>\n",
       "      <td>26.0</td>\n",
       "      <td>0</td>\n",
       "      <td>0</td>\n",
       "      <td>STON/O2. 3101282</td>\n",
       "      <td>7.9250</td>\n",
       "      <td>NaN</td>\n",
       "      <td>S</td>\n",
       "    </tr>\n",
       "    <tr>\n",
       "      <th>3</th>\n",
       "      <td>4</td>\n",
       "      <td>1</td>\n",
       "      <td>1</td>\n",
       "      <td>Futrelle, Mrs. Jacques Heath (Lily May Peel)</td>\n",
       "      <td>female</td>\n",
       "      <td>35.0</td>\n",
       "      <td>1</td>\n",
       "      <td>0</td>\n",
       "      <td>113803</td>\n",
       "      <td>53.1000</td>\n",
       "      <td>C123</td>\n",
       "      <td>S</td>\n",
       "    </tr>\n",
       "    <tr>\n",
       "      <th>4</th>\n",
       "      <td>5</td>\n",
       "      <td>0</td>\n",
       "      <td>3</td>\n",
       "      <td>Allen, Mr. William Henry</td>\n",
       "      <td>male</td>\n",
       "      <td>35.0</td>\n",
       "      <td>0</td>\n",
       "      <td>0</td>\n",
       "      <td>373450</td>\n",
       "      <td>8.0500</td>\n",
       "      <td>NaN</td>\n",
       "      <td>S</td>\n",
       "    </tr>\n",
       "  </tbody>\n",
       "</table>\n",
       "</div>"
      ],
      "text/plain": [
       "   PassengerId  Survived  Pclass  \\\n",
       "0            1         0       3   \n",
       "1            2         1       1   \n",
       "2            3         1       3   \n",
       "3            4         1       1   \n",
       "4            5         0       3   \n",
       "\n",
       "                                                Name     Sex   Age  SibSp  \\\n",
       "0                            Braund, Mr. Owen Harris    male  22.0      1   \n",
       "1  Cumings, Mrs. John Bradley (Florence Briggs Th...  female  38.0      1   \n",
       "2                             Heikkinen, Miss. Laina  female  26.0      0   \n",
       "3       Futrelle, Mrs. Jacques Heath (Lily May Peel)  female  35.0      1   \n",
       "4                           Allen, Mr. William Henry    male  35.0      0   \n",
       "\n",
       "   Parch            Ticket     Fare Cabin Embarked  \n",
       "0      0         A/5 21171   7.2500   NaN        S  \n",
       "1      0          PC 17599  71.2833   C85        C  \n",
       "2      0  STON/O2. 3101282   7.9250   NaN        S  \n",
       "3      0            113803  53.1000  C123        S  \n",
       "4      0            373450   8.0500   NaN        S  "
      ]
     },
     "execution_count": 65,
     "metadata": {},
     "output_type": "execute_result"
    }
   ],
   "source": [
    "data.head(5)"
   ]
  },
  {
   "cell_type": "markdown",
   "metadata": {},
   "source": [
    "Cabin, Embarked 等特征值数值化\n",
    "Ticket 等高维数据降维处理并将特征值数值化\n",
    "Fare，Age 等为连续数据，之后需要检查是否是偏态数据\n",
    "接下来，删除无用的特征 PassengerId, Name。"
   ]
  },
  {
   "cell_type": "markdown",
   "metadata": {},
   "source": [
    "#### 2.2.2.相关系数分析\n",
    "\n",
    "<a href=\"https://www.zhihu.com/question/20852004/answer/129508585\">知乎相关系数、协方差讨论</a>"
   ]
  },
  {
   "cell_type": "code",
   "execution_count": 66,
   "metadata": {
    "collapsed": false
   },
   "outputs": [
    {
     "name": "stdout",
     "output_type": "stream",
     "text": [
      "Index(['Survived', 'Pclass', 'Sex', 'Age', 'SibSp', 'Parch', 'Ticket', 'Fare',\n",
      "       'Cabin', 'Embarked'],\n",
      "      dtype='object')\n"
     ]
    },
    {
     "data": {
      "text/plain": [
       "<matplotlib.axes._subplots.AxesSubplot at 0x7face8f1ce48>"
      ]
     },
     "execution_count": 66,
     "metadata": {},
     "output_type": "execute_result"
    },
    {
     "data": {
      "image/png": "[encoded data removed]",
      "text/plain": [
       "<matplotlib.figure.Figure at 0x7face8ebcc18>"
      ]
     },
     "metadata": {},
     "output_type": "display_data"
    }
   ],
   "source": [
    "data.drop(['PassengerId','Name'],axis=1,inplace=True)\n",
    "#cmap = sns.cubehelix_palette(light=0.75, as_cmap=True)\n",
    "print(data.columns)\n",
    "sns.heatmap(data[['Survived','Pclass','Age','SibSp','Parch','Fare']].corr(),cmap='CMRmap_r',annot=True)"
   ]
  },
  {
   "cell_type": "markdown",
   "metadata": {},
   "source": [
    "数值越大，相关性越大。Fare和Survived有较大的正相关性。"
   ]
  },
  {
   "cell_type": "markdown",
   "metadata": {},
   "source": [
    "#### 2.2.3.缺失值\n",
    "根据不同的情况，可以使用中位数、平均数、众数填充，删除等方法处理缺失值，较复杂的方法还有建模预测。\n",
    "\n",
    "**Age**\n",
    "\n",
    "作图Age~Survived。年龄较小的孩子生存几率大。补充缺失值后，我们必须检查对Age~Survived的性质产生的影响。"
   ]
  },
  {
   "cell_type": "code",
   "execution_count": 67,
   "metadata": {
    "collapsed": false
   },
   "outputs": [
    {
     "data": {
      "image/png": "[encoded data removed]",
      "text/plain": [
       "<matplotlib.figure.Figure at 0x7face94bdbe0>"
      ]
     },
     "metadata": {},
     "output_type": "display_data"
    }
   ],
   "source": [
    "Age0=data[(data['Survived']==0)&(data['Age'].notnull())]['Age']\n",
    "Age1=data[(data['Survived']==1)&(data['Age'].notnull())]['Age']\n",
    "g=sns.kdeplot(Age0,legend=True,shade=True,color='r',label='NotSurvived')\n",
    "g=sns.kdeplot(Age1,legend=True,shade=True,color='b',label='Survived')"
   ]
  },
  {
   "cell_type": "markdown",
   "metadata": {},
   "source": [
    "在2.2.2节中，根据heatmap,Age和SibSp,Parch,Pclass相关性高，我们再用箱型图直观感受一下，以图形Sex~Age,Pclass~Age为例"
   ]
  },
  {
   "cell_type": "code",
   "execution_count": 68,
   "metadata": {
    "collapsed": false
   },
   "outputs": [
    {
     "data": {
      "image/png": "[encoded data removed]",
      "text/plain": [
       "<matplotlib.figure.Figure at 0x7face8c94a90>"
      ]
     },
     "metadata": {},
     "output_type": "display_data"
    },
    {
     "data": {
      "image/png": "[encoded data removed]",
      "text/plain": [
       "<matplotlib.figure.Figure at 0x7face8c0aac8>"
      ]
     },
     "metadata": {},
     "output_type": "display_data"
    }
   ],
   "source": [
    "g=sns.factorplot(x='Sex',y='Age',data=data,kind='box')\n",
    "g=sns.factorplot(x='Pclass',y='Age',data=data,kind='box')"
   ]
  },
  {
   "cell_type": "markdown",
   "metadata": {},
   "source": [
    "上面靓图说明男性和女性的年龄分布（指箱型图中的五条线，从上到下一次的最大值、四分位、中位数、四分位、最小值）基本一致，而购买不同等级票的人的年龄分布则是不同的。所以，问你根据票的等级将数据分为不同的集合，再用缺失数据所在集合的平均值来进行填充，并检查填充后的Age~Survived是否受到影响。"
   ]
  },
  {
   "cell_type": "code",
   "execution_count": 69,
   "metadata": {
    "collapsed": false
   },
   "outputs": [
    {
     "name": "stderr",
     "output_type": "stream",
     "text": [
      "/opt/conda/envs/python3new/lib/python3.6/site-packages/pandas/core/indexing.py:179: SettingWithCopyWarning: \n",
      "A value is trying to be set on a copy of a slice from a DataFrame\n",
      "\n",
      "See the caveats in the documentation: http://pandas.pydata.org/pandas-docs/stable/indexing.html#indexing-view-versus-copy\n",
      "  self._setitem_with_indexer(indexer, value)\n"
     ]
    },
    {
     "data": {
      "image/png": "[encoded data removed]",
      "text/plain": [
       "<matplotlib.figure.Figure at 0x7face8ce2f60>"
      ]
     },
     "metadata": {},
     "output_type": "display_data"
    }
   ],
   "source": [
    "index = list(data[data['Age'].isnull()].index)\n",
    "Age_mean = np.mean(data[data['Age'].notnull()]['Age'])\n",
    "copy_data = data.copy()\n",
    "for i in index:\n",
    "    filling_age = np.mean(copy_data[(copy_data['Pclass'] == copy_data.iloc[i]['Pclass'])\n",
    "                                    & (copy_data['SibSp'] == copy_data.iloc[i]['SibSp'])\n",
    "                                    & (copy_data['Parch'] == copy_data.iloc[i]['Parch'])\n",
    "                                    ]['Age'])\n",
    "    if not np.isnan(filling_age):\n",
    "        data['Age'].iloc[i] = filling_age\n",
    "    else:\n",
    "        data['Age'].iloc[i] = Age_mean\n",
    "g = sns.kdeplot(Age0, legend=True, shade=True, color='r', label='NotSurvived')\n",
    "g = sns.kdeplot(Age1, legend=True, shade=True, color='b', label='Survived')"
   ]
  },
  {
   "cell_type": "markdown",
   "metadata": {},
   "source": [
    "**Embarked**\n",
    "\n",
    "对于只有极少数缺失值的特征，我们可以选择删除改样本，使用众数、均值、中位数等填充。\n",
    "\n",
    "**Cabin**\n",
    "\n",
    "对于这种复杂，高纬的数据，我们需要挖掘它的规律。例如Cabin特征值由字母开头，判断船舱按字母分为A.B.C...于是我们仅提取字母编号，降低维度，然后使用'U'填充数据。"
   ]
  },
  {
   "cell_type": "code",
   "execution_count": 70,
   "metadata": {
    "collapsed": false
   },
   "outputs": [
    {
     "data": {
      "text/plain": [
       "1             C85\n",
       "3            C123\n",
       "6             E46\n",
       "10             G6\n",
       "11           C103\n",
       "21            D56\n",
       "23             A6\n",
       "27    C23 C25 C27\n",
       "31            B78\n",
       "52            D33\n",
       "Name: Cabin, dtype: object"
      ]
     },
     "execution_count": 70,
     "metadata": {},
     "output_type": "execute_result"
    }
   ],
   "source": [
    "data[data['Cabin'].notnull()]['Cabin'].head(10)"
   ]
  },
  {
   "cell_type": "code",
   "execution_count": 71,
   "metadata": {
    "collapsed": false
   },
   "outputs": [
    {
     "name": "stdout",
     "output_type": "stream",
     "text": [
      "Index(['Survived', 'Pclass', 'Sex', 'Age', 'SibSp', 'Parch', 'Ticket', 'Fare',\n",
      "       'Cabin', 'Embarked'],\n",
      "      dtype='object')\n"
     ]
    },
    {
     "data": {
      "image/png": "[encoded data removed]",
      "text/plain": [
       "<matplotlib.figure.Figure at 0x7face8e89748>"
      ]
     },
     "metadata": {},
     "output_type": "display_data"
    }
   ],
   "source": [
    "data['Cabin'].fillna('U',inplace=True)\n",
    "data['Cabin']=data['Cabin'].map(lambda i: list(i)[0])\n",
    "g = sns.factorplot(x='Cabin',y='Survived',data=data,ci=False,kind='bar',order=['A','B','C','D','E','F','T','U'])\n",
    "print(data.columns)"
   ]
  },
  {
   "cell_type": "code",
   "execution_count": 72,
   "metadata": {
    "collapsed": false
   },
   "outputs": [
    {
     "data": {
      "image/png": "[encoded data removed]",
      "text/plain": [
       "<matplotlib.figure.Figure at 0x7face8bc65c0>"
      ]
     },
     "metadata": {},
     "output_type": "display_data"
    }
   ],
   "source": [
    "g = sns.countplot(x='Cabin',hue='Pclass',data=data,order=['A','B','C','D','E','F','T','U'])"
   ]
  },
  {
   "cell_type": "markdown",
   "metadata": {},
   "source": [
    "从上图中看出，缺失数据的游客主要是三等仓的，并且这部分游客的生产率想对较低。"
   ]
  },
  {
   "cell_type": "markdown",
   "metadata": {},
   "source": [
    "#### 2.2.4偏态分布\n",
    "\n",
    "偏态分布的数据有时不利于模型发现数据中的规律，我们可以使用Log Transformation来出来数据，参考<a  href='http://www.statisticshowto.com/probability-and-statistics/skewed-distribution/'>Skewed Distribution and Log Transformation"
   ]
  },
  {
   "cell_type": "code",
   "execution_count": 73,
   "metadata": {
    "collapsed": false
   },
   "outputs": [
    {
     "name": "stdout",
     "output_type": "stream",
     "text": [
      "Skew Coefficient:4.79\n"
     ]
    },
    {
     "data": {
      "image/png": "[encoded data removed]",
      "text/plain": [
       "<matplotlib.figure.Figure at 0x7face8bb10f0>"
      ]
     },
     "metadata": {},
     "output_type": "display_data"
    }
   ],
   "source": [
    "g=sns.kdeplot(data[data['Survived']==0]['Fare'],shade='True',label='NotSurvived',color='r')\n",
    "g=sns.kdeplot(data[data['Survived']==1]['Fare'],shade='True',label='Survived',color='b')\n",
    "print('Skew Coefficient:%.2f' %(data['Fare'].skew()))"
   ]
  },
  {
   "cell_type": "code",
   "execution_count": 74,
   "metadata": {
    "collapsed": false
   },
   "outputs": [
    {
     "name": "stdout",
     "output_type": "stream",
     "text": [
      "Skew Coefficient:0.44\n"
     ]
    },
    {
     "data": {
      "image/png": "[encoded data removed]",
      "text/plain": [
       "<matplotlib.figure.Figure at 0x7face8ec3eb8>"
      ]
     },
     "metadata": {},
     "output_type": "display_data"
    }
   ],
   "source": [
    "data['Fare']=data['Fare'].map(lambda i:np.log(i) if i>0 else 0)\n",
    "g=sns.distplot(data['Fare'])\n",
    "print('Skew Coefficient:%.2f' %(data['Fare'].skew()))"
   ]
  },
  {
   "cell_type": "markdown",
   "metadata": {},
   "source": [
    "Fare属于右偏态分布，Python提供了计算数据偏态系数的函数skew()，计算值越大，数据偏态越明显。使用Log Transformation后，我们看到计算值从4.79降到0.44"
   ]
  },
  {
   "cell_type": "markdown",
   "metadata": {},
   "source": [
    "#### 2.2.5数值化和标准化\n",
    "**Ticket**\n",
    "\n",
    "Ticket特征值中的一串数字编号对我们没有意义，忽略。下面代码中，我们使用正则表达式过滤掉这串数字，并使用pandas.get_dummies函数进行数值化(以Ticket特征值作为新的特征，0,1做为新的特征)。参考<a href='http://www.runoob.com/regexp/regexp-syntax.html'>正则表达式<a/>"
   ]
  },
  {
   "cell_type": "code",
   "execution_count": 75,
   "metadata": {
    "collapsed": false
   },
   "outputs": [],
   "source": [
    "Ticket=[]\n",
    "import re\n",
    "r=re.compile(r'\\w*')\n",
    "for i in data['Ticket']:\n",
    "    sp=i.split(' ')\n",
    "    if len(sp)==1:\n",
    "       Ticket.append('U')\n",
    "    else:\n",
    "       t=r.findall(sp[0])\n",
    "       Ticket.append(''.join(t)) \n",
    "data['Ticket']=Ticket\n",
    "data=pd.get_dummies(data,columns=['Ticket'],prefix='T')"
   ]
  },
  {
   "cell_type": "code",
   "execution_count": 82,
   "metadata": {
    "collapsed": false
   },
   "outputs": [
    {
     "data": {
      "text/plain": [
       "Index(['Survived', 'Pclass', 'Sex', 'Age', 'SibSp', 'Parch', 'Fare', 'Cabin',\n",
       "       'Embarked', 'T_A4', 'T_A5', 'T_AS', 'T_C', 'T_CA', 'T_CASOTON', 'T_FC',\n",
       "       'T_FCC', 'T_Fa', 'T_PC', 'T_PP', 'T_PPP', 'T_SC', 'T_SCA4', 'T_SCAH',\n",
       "       'T_SCOW', 'T_SCPARIS', 'T_SCParis', 'T_SOC', 'T_SOP', 'T_SOPP',\n",
       "       'T_SOTONO2', 'T_SOTONOQ', 'T_SP', 'T_STONO', 'T_STONO2', 'T_SWPP',\n",
       "       'T_U', 'T_WC', 'T_WEP'],\n",
       "      dtype='object')"
      ]
     },
     "execution_count": 82,
     "metadata": {},
     "output_type": "execute_result"
    }
   ],
   "source": [
    "data.columns"
   ]
  },
  {
   "cell_type": "markdown",
   "metadata": {},
   "source": [
    "**Sex**\n",
    "\n",
    "Sex只有male,female两个特征值，用0替代male,1替代female"
   ]
  },
  {
   "cell_type": "code",
   "execution_count": 88,
   "metadata": {
    "collapsed": false
   },
   "outputs": [
    {
     "name": "stdout",
     "output_type": "stream",
     "text": [
      "0      male\n",
      "1    female\n",
      "2    female\n",
      "3    female\n",
      "4      male\n",
      "Name: Sex, dtype: object\n",
      "0    0\n",
      "1    1\n",
      "2    1\n",
      "3    1\n",
      "4    0\n",
      "Name: Sex, dtype: int64\n"
     ]
    }
   ],
   "source": [
    "print(data['Sex'].head(5))\n",
    "data['Sex'].replace('male',0,inplace=True)\n",
    "data['Sex'].replace('female',1,inplace=True)\n",
    "print(data['Sex'].head(5))"
   ]
  },
  {
   "cell_type": "markdown",
   "metadata": {},
   "source": [
    "#### 2.2.6离群点\n",
    "离群点是显著偏离数据集里其余对象的点。离群点来源于操作失误，数据本身的可变行等。在不同的环境中，离群点扮演不同角色。例如一个人的年龄300岁，明显不正常，应当删除，而某些环境中，我们却需要探测、研究离群点，例如欺诈检测。我们这里采用箱线法，检测特征['Age','Parch','SibSp','Fare']的离群点。参考<a href='http://blog.csdn.net/littlely_ll/article/details/68486537'>离群点和箱线法</a>"
   ]
  },
  {
   "cell_type": "code",
   "execution_count": 84,
   "metadata": {
    "collapsed": false
   },
   "outputs": [
    {
     "name": "stdout",
     "output_type": "stream",
     "text": [
      "Age: 59.500000 (Q3+1.5*IQR) , -0.500000 (Q1-1.5*QIR) )\n",
      "Parch: 0.000000 (Q3+1.5*IQR) , 0.000000 (Q1-1.5*QIR) )\n",
      "SibSp: 2.500000 (Q3+1.5*IQR) , -1.500000 (Q1-1.5*QIR) )\n",
      "Fare: 5.482703 (Q3+1.5*IQR) , 0.019461 (Q1-1.5*QIR) )\n",
      "number of outliers: 4\n",
      "      Age  Parch  SibSp      Fare\n",
      "438  64.0      4      1  5.572154\n",
      "27   19.0      2      3  5.572154\n",
      "88   23.0      2      3  5.572154\n",
      "341  24.0      2      3  5.572154\n"
     ]
    }
   ],
   "source": [
    "from collections import Counter\n",
    "\n",
    "\n",
    "def outlier_detect(n, df, features):\n",
    "    outlier_index = []\n",
    "    for feature in features:\n",
    "        Q1 = np.percentile(df[feature], 25)\n",
    "        Q3 = np.percentile(df[feature], 75)\n",
    "        IQR = Q3 - Q1\n",
    "        outlier_span = 1.5 * IQR\n",
    "        col = ((data[data[feature] > Q3 + outlier_span]) |\n",
    "               (data[data[feature] < Q1 - outlier_span])).index\n",
    "        outlier_index.extend(col)\n",
    "        print('%s: %f (Q3+1.5*IQR) , %f (Q1-1.5*QIR) )' %\n",
    "              (feature, Q3 + outlier_span, Q1 - outlier_span))\n",
    "    outlier_index = Counter(outlier_index)\n",
    "    outlier = list(i for i, j in outlier_index.items() if j >= n)\n",
    "    print('number of outliers: %d' % len(outlier))\n",
    "    print(df[['Age', 'Parch', 'SibSp', 'Fare']].loc[outlier])\n",
    "    return outlier\n",
    "\n",
    "\n",
    "outlier = outlier_detect(3, data, ['Age', 'Parch', 'SibSp', 'Fare'])"
   ]
  },
  {
   "cell_type": "markdown",
   "metadata": {
    "collapsed": true
   },
   "source": [
    "## 3.实验总结\n",
    "本次实验我们实验了数据清洗的基本思路，希望大家可以从中学习数据清洗的基本思路以及具体操作，同时练习使用 Pandas 数据分析工具、Seaborn 统计分析可视化工具。好了，本次实验到此结束，敬请期待下一篇分类模型训练及评价简介。"
   ]
  },
  {
   "cell_type": "code",
   "execution_count": null,
   "metadata": {
    "collapsed": true
   },
   "outputs": [],
   "source": []
  }
 ],
 "metadata": {
  "kernelspec": {
   "display_name": "Python 3 (PacVer 2.0)",
   "language": "python",
   "name": "python3new"
  },
  "language_info": {
   "codemirror_mode": {
    "name": "ipython",
    "version": 3
   },
   "file_extension": ".py",
   "mimetype": "text/x-python",
   "name": "python",
   "nbconvert_exporter": "python",
   "pygments_lexer": "ipython3",
   "version": "3.6.3"
  }
 },
 "nbformat": 4,
 "nbformat_minor": 2
}
